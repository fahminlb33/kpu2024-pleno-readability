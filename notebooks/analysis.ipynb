{
 "cells": [
  {
   "cell_type": "code",
   "execution_count": 1,
   "metadata": {},
   "outputs": [],
   "source": [
    "import numpy as np\n",
    "import pandas as pd\n",
    "import seaborn as sns\n",
    "import matplotlib.pyplot as plt"
   ]
  },
  {
   "cell_type": "markdown",
   "metadata": {},
   "source": [
    "## Data Loading"
   ]
  },
  {
   "cell_type": "code",
   "execution_count": 2,
   "metadata": {},
   "outputs": [
    {
     "name": "stdout",
     "output_type": "stream",
     "text": [
      "<class 'pandas.core.frame.DataFrame'>\n",
      "RangeIndex: 915181 entries, 0 to 915180\n",
      "Data columns (total 12 columns):\n",
      " #   Column                           Non-Null Count   Dtype \n",
      "---  ------                           --------------   ----- \n",
      " 0   id                               915181 non-null  int64 \n",
      " 1   kode                             915181 non-null  object\n",
      " 2   nama                             915181 non-null  object\n",
      " 3   tingkat                          915181 non-null  int64 \n",
      " 4   _is_fetched_presiden             915181 non-null  bool  \n",
      " 5   updated_at                       915181 non-null  object\n",
      " 6   created_at                       915181 non-null  object\n",
      " 7   _is_fetched_dpr                  915181 non-null  bool  \n",
      " 8   _is_fetched_dpd                  915181 non-null  bool  \n",
      " 9   _is_fetched_dprd_provinsi        915181 non-null  bool  \n",
      " 10  _is_fetched_dprd_kabupaten_kota  915181 non-null  bool  \n",
      " 11  _is_fetched_wilayah              915181 non-null  bool  \n",
      "dtypes: bool(6), int64(2), object(4)\n",
      "memory usage: 47.1+ MB\n"
     ]
    }
   ],
   "source": [
    "df_wilayah = pd.read_csv(\"../dataset/wilayah.csv\")\n",
    "df_wilayah.info()"
   ]
  },
  {
   "cell_type": "code",
   "execution_count": 3,
   "metadata": {},
   "outputs": [
    {
     "name": "stderr",
     "output_type": "stream",
     "text": [
      "/tmp/ipykernel_5517/3835573568.py:1: DtypeWarning: Columns (0,2,3,4) have mixed types. Specify dtype option on import or set low_memory=False.\n",
      "  df_pemilu = pd.read_csv(\"../dataset/pemilu.csv\")\n"
     ]
    },
    {
     "name": "stdout",
     "output_type": "stream",
     "text": [
      "<class 'pandas.core.frame.DataFrame'>\n",
      "RangeIndex: 823236 entries, 0 to 823235\n",
      "Data columns (total 43 columns):\n",
      " #   Column               Non-Null Count   Dtype  \n",
      "---  ------               --------------   -----  \n",
      " 0   kode                 823236 non-null  object \n",
      " 1   provinsi_kode        823236 non-null  int64  \n",
      " 2   kabupaten_kota_kode  823236 non-null  object \n",
      " 3   kecamatan_kode       823236 non-null  object \n",
      " 4   kelurahan_desa_kode  823236 non-null  object \n",
      " 5   tps                  823236 non-null  int64  \n",
      " 6   suara_paslon_1       650005 non-null  float64\n",
      " 7   suara_paslon_2       649895 non-null  float64\n",
      " 8   suara_paslon_3       649863 non-null  float64\n",
      " 9   chasil_hal_1         670516 non-null  object \n",
      " 10  chasil_hal_2         664486 non-null  object \n",
      " 11  chasil_hal_3         651910 non-null  object \n",
      " 12  suara_sah            532568 non-null  float64\n",
      " 13  suara_total          532532 non-null  float64\n",
      " 14  pemilih_dpt_j        532598 non-null  float64\n",
      " 15  pemilih_dpt_l        532605 non-null  float64\n",
      " 16  pemilih_dpt_p        532605 non-null  float64\n",
      " 17  pengguna_dpt_j       532604 non-null  float64\n",
      " 18  pengguna_dpt_l       532611 non-null  float64\n",
      " 19  pengguna_dpt_p       532611 non-null  float64\n",
      " 20  pengguna_dptb_j      532602 non-null  float64\n",
      " 21  pengguna_dptb_l      532608 non-null  float64\n",
      " 22  pengguna_dptb_p      532610 non-null  float64\n",
      " 23  suara_tidak_sah      532560 non-null  float64\n",
      " 24  pengguna_total_j     532604 non-null  float64\n",
      " 25  pengguna_total_l     532611 non-null  float64\n",
      " 26  pengguna_total_p     532611 non-null  float64\n",
      " 27  pengguna_non_dpt_j   532602 non-null  float64\n",
      " 28  pengguna_non_dpt_l   532608 non-null  float64\n",
      " 29  pengguna_non_dpt_p   532609 non-null  float64\n",
      " 30  psu                  2218 non-null    object \n",
      " 31  ts                   823236 non-null  object \n",
      " 32  status_suara         823236 non-null  object \n",
      " 33  status_adm           823236 non-null  object \n",
      " 34  updated_at           823236 non-null  object \n",
      " 35  created_at           823236 non-null  object \n",
      " 36  url_page             823236 non-null  object \n",
      " 37  provinsi_nama        823236 non-null  object \n",
      " 38  kabupaten_kota_nama  823236 non-null  object \n",
      " 39  kecamatan_nama       823236 non-null  object \n",
      " 40  kelurahan_desa_nama  823236 non-null  object \n",
      " 41  url_api              823236 non-null  object \n",
      " 42  fetch_count          823236 non-null  int64  \n",
      "dtypes: float64(21), int64(3), object(19)\n",
      "memory usage: 270.1+ MB\n"
     ]
    }
   ],
   "source": [
    "df_pemilu = pd.read_csv(\"../dataset/pemilu.csv\")\n",
    "df_pemilu.info()"
   ]
  },
  {
   "cell_type": "code",
   "execution_count": 4,
   "metadata": {},
   "outputs": [
    {
     "name": "stdout",
     "output_type": "stream",
     "text": [
      "<class 'pandas.core.frame.DataFrame'>\n",
      "RangeIndex: 1913583 entries, 0 to 1913582\n",
      "Data columns (total 10 columns):\n",
      " #   Column          Dtype  \n",
      "---  ------          -----  \n",
      " 0   kode            object \n",
      " 1   tps             int64  \n",
      " 2   page            int64  \n",
      " 3   size_bytes      int64  \n",
      " 4   extension       object \n",
      " 5   height          int64  \n",
      " 6   width           int64  \n",
      " 7   laplacian_blur  float64\n",
      " 8   fft_blur        float64\n",
      " 9   similarity      float64\n",
      "dtypes: float64(3), int64(5), object(2)\n",
      "memory usage: 146.0+ MB\n"
     ]
    },
    {
     "name": "stderr",
     "output_type": "stream",
     "text": [
      "/tmp/ipykernel_5517/339194702.py:1: DtypeWarning: Columns (0) have mixed types. Specify dtype option on import or set low_memory=False.\n",
      "  df_blur = pd.read_csv(\"../dataset/result_blur.csv\")\n"
     ]
    }
   ],
   "source": [
    "df_blur = pd.read_csv(\"../dataset/result_blur.csv\")\n",
    "df_blur.info()"
   ]
  },
  {
   "cell_type": "code",
   "execution_count": 5,
   "metadata": {},
   "outputs": [
    {
     "name": "stdout",
     "output_type": "stream",
     "text": [
      "<class 'pandas.core.frame.DataFrame'>\n",
      "RangeIndex: 1986912 entries, 0 to 1986911\n",
      "Data columns (total 4 columns):\n",
      " #   Column  Dtype \n",
      "---  ------  ----- \n",
      " 0   kode    object\n",
      " 1   tps     int64 \n",
      " 2   page    int64 \n",
      " 3   hash    object\n",
      "dtypes: int64(2), object(2)\n",
      "memory usage: 60.6+ MB\n"
     ]
    },
    {
     "name": "stderr",
     "output_type": "stream",
     "text": [
      "/tmp/ipykernel_5517/3942783410.py:1: DtypeWarning: Columns (0) have mixed types. Specify dtype option on import or set low_memory=False.\n",
      "  df_hash = pd.read_csv(\"../dataset/result_hash.csv\", names=[\"kode\", \"tps\", \"page\", \"hash\"])\n"
     ]
    }
   ],
   "source": [
    "df_hash = pd.read_csv(\"../dataset/result_hash.csv\", names=[\"kode\", \"tps\", \"page\", \"hash\"])\n",
    "df_hash.info()"
   ]
  },
  {
   "cell_type": "code",
   "execution_count": 35,
   "metadata": {},
   "outputs": [
    {
     "name": "stdout",
     "output_type": "stream",
     "text": [
      "<class 'pandas.core.frame.DataFrame'>\n",
      "RangeIndex: 1775337 entries, 0 to 1775336\n",
      "Data columns (total 17 columns):\n",
      " #   Column                  Dtype  \n",
      "---  ------                  -----  \n",
      " 0   kode                    object \n",
      " 1   tps                     int64  \n",
      " 2   page                    int64  \n",
      " 3   size_bytes              int64  \n",
      " 4   extension               object \n",
      " 5   height                  int64  \n",
      " 6   width                   int64  \n",
      " 7   laplacian_blur          float64\n",
      " 8   fft_blur                float64\n",
      " 9   similarity              float64\n",
      " 10  hash                    object \n",
      " 11  size_mb                 float64\n",
      " 12  aspect_ratio            float64\n",
      " 13  province_code           object \n",
      " 14  district_code           object \n",
      " 15  province_district_code  object \n",
      " 16  id                      object \n",
      "dtypes: float64(5), int64(5), object(7)\n",
      "memory usage: 230.3+ MB\n"
     ]
    }
   ],
   "source": [
    "# join table\n",
    "df = pd.merge(df_blur, df_hash, on=[\"kode\", \"tps\", \"page\"], how='inner')\n",
    "df[\"size_mb\"] = df[\"size_bytes\"] / 1024 / 1024\n",
    "df[\"aspect_ratio\"] = df[\"width\"] / df[\"height\"]\n",
    "df[\"province_code\"] = df[\"kode\"].str.slice(0, 2)\n",
    "df[\"district_code\"] = df[\"kode\"].str.slice(2, 4)\n",
    "df[\"province_district_code\"] = df[\"province_code\"] + df[\"district_code\"]\n",
    "df[\"id\"] = df[[\"kode\", \"page\"]].apply(lambda x: f\"{x.kode}_{x.page}\", axis=1)\n",
    "df.info()"
   ]
  },
  {
   "cell_type": "code",
   "execution_count": 36,
   "metadata": {},
   "outputs": [
    {
     "data": {
      "text/html": [
       "<div>\n",
       "<style scoped>\n",
       "    .dataframe tbody tr th:only-of-type {\n",
       "        vertical-align: middle;\n",
       "    }\n",
       "\n",
       "    .dataframe tbody tr th {\n",
       "        vertical-align: top;\n",
       "    }\n",
       "\n",
       "    .dataframe thead th {\n",
       "        text-align: right;\n",
       "    }\n",
       "</style>\n",
       "<table border=\"1\" class=\"dataframe\">\n",
       "  <thead>\n",
       "    <tr style=\"text-align: right;\">\n",
       "      <th></th>\n",
       "      <th>kode</th>\n",
       "      <th>tps</th>\n",
       "      <th>page</th>\n",
       "      <th>size_bytes</th>\n",
       "      <th>extension</th>\n",
       "      <th>height</th>\n",
       "      <th>width</th>\n",
       "      <th>laplacian_blur</th>\n",
       "      <th>fft_blur</th>\n",
       "      <th>similarity</th>\n",
       "      <th>hash</th>\n",
       "      <th>size_mb</th>\n",
       "      <th>aspect_ratio</th>\n",
       "      <th>province_code</th>\n",
       "      <th>district_code</th>\n",
       "      <th>province_district_code</th>\n",
       "      <th>id</th>\n",
       "    </tr>\n",
       "  </thead>\n",
       "  <tbody>\n",
       "    <tr>\n",
       "      <th>0</th>\n",
       "      <td>3329082007033</td>\n",
       "      <td>33</td>\n",
       "      <td>1</td>\n",
       "      <td>1439908</td>\n",
       "      <td>jpg</td>\n",
       "      <td>1777</td>\n",
       "      <td>1000</td>\n",
       "      <td>1341.284676</td>\n",
       "      <td>44.759416</td>\n",
       "      <td>0.672840</td>\n",
       "      <td>edd71268dcb767638e4d6e617264c09e1e015a79d22a08...</td>\n",
       "      <td>1.373203</td>\n",
       "      <td>0.562746</td>\n",
       "      <td>33</td>\n",
       "      <td>29</td>\n",
       "      <td>3329</td>\n",
       "      <td>3329082007033_1</td>\n",
       "    </tr>\n",
       "    <tr>\n",
       "      <th>1</th>\n",
       "      <td>3329082007033</td>\n",
       "      <td>33</td>\n",
       "      <td>2</td>\n",
       "      <td>1631161</td>\n",
       "      <td>jpg</td>\n",
       "      <td>1777</td>\n",
       "      <td>1000</td>\n",
       "      <td>3354.153223</td>\n",
       "      <td>41.182217</td>\n",
       "      <td>0.714286</td>\n",
       "      <td>9f81c4fa7284beb3b9ef37b37cc46885c904b780f1a589...</td>\n",
       "      <td>1.555596</td>\n",
       "      <td>0.562746</td>\n",
       "      <td>33</td>\n",
       "      <td>29</td>\n",
       "      <td>3329</td>\n",
       "      <td>3329082007033_2</td>\n",
       "    </tr>\n",
       "    <tr>\n",
       "      <th>2</th>\n",
       "      <td>3329082007033</td>\n",
       "      <td>33</td>\n",
       "      <td>3</td>\n",
       "      <td>1181762</td>\n",
       "      <td>jpg</td>\n",
       "      <td>1777</td>\n",
       "      <td>1000</td>\n",
       "      <td>653.361715</td>\n",
       "      <td>33.343113</td>\n",
       "      <td>0.582192</td>\n",
       "      <td>8f1fcee455976e29101af1798ed9b4e99adecec66ce9f2...</td>\n",
       "      <td>1.127016</td>\n",
       "      <td>0.562746</td>\n",
       "      <td>33</td>\n",
       "      <td>29</td>\n",
       "      <td>3329</td>\n",
       "      <td>3329082007033_3</td>\n",
       "    </tr>\n",
       "    <tr>\n",
       "      <th>3</th>\n",
       "      <td>3202172008019</td>\n",
       "      <td>19</td>\n",
       "      <td>1</td>\n",
       "      <td>698625</td>\n",
       "      <td>jpg</td>\n",
       "      <td>1799</td>\n",
       "      <td>1000</td>\n",
       "      <td>173.245189</td>\n",
       "      <td>30.408100</td>\n",
       "      <td>0.656051</td>\n",
       "      <td>0aa79de0bb5334fe256dbe100d5ec89f3a3943ec319525...</td>\n",
       "      <td>0.666261</td>\n",
       "      <td>0.555864</td>\n",
       "      <td>32</td>\n",
       "      <td>02</td>\n",
       "      <td>3202</td>\n",
       "      <td>3202172008019_1</td>\n",
       "    </tr>\n",
       "    <tr>\n",
       "      <th>4</th>\n",
       "      <td>3202172008019</td>\n",
       "      <td>19</td>\n",
       "      <td>2</td>\n",
       "      <td>691647</td>\n",
       "      <td>jpg</td>\n",
       "      <td>1799</td>\n",
       "      <td>1000</td>\n",
       "      <td>144.869528</td>\n",
       "      <td>25.400169</td>\n",
       "      <td>0.791667</td>\n",
       "      <td>af67dba5884a880afb3baeb279d0a8a52bb5647ddb61ec...</td>\n",
       "      <td>0.659606</td>\n",
       "      <td>0.555864</td>\n",
       "      <td>32</td>\n",
       "      <td>02</td>\n",
       "      <td>3202</td>\n",
       "      <td>3202172008019_2</td>\n",
       "    </tr>\n",
       "  </tbody>\n",
       "</table>\n",
       "</div>"
      ],
      "text/plain": [
       "            kode  tps  page  size_bytes extension  height  width  \\\n",
       "0  3329082007033   33     1     1439908       jpg    1777   1000   \n",
       "1  3329082007033   33     2     1631161       jpg    1777   1000   \n",
       "2  3329082007033   33     3     1181762       jpg    1777   1000   \n",
       "3  3202172008019   19     1      698625       jpg    1799   1000   \n",
       "4  3202172008019   19     2      691647       jpg    1799   1000   \n",
       "\n",
       "   laplacian_blur   fft_blur  similarity  \\\n",
       "0     1341.284676  44.759416    0.672840   \n",
       "1     3354.153223  41.182217    0.714286   \n",
       "2      653.361715  33.343113    0.582192   \n",
       "3      173.245189  30.408100    0.656051   \n",
       "4      144.869528  25.400169    0.791667   \n",
       "\n",
       "                                                hash   size_mb  aspect_ratio  \\\n",
       "0  edd71268dcb767638e4d6e617264c09e1e015a79d22a08...  1.373203      0.562746   \n",
       "1  9f81c4fa7284beb3b9ef37b37cc46885c904b780f1a589...  1.555596      0.562746   \n",
       "2  8f1fcee455976e29101af1798ed9b4e99adecec66ce9f2...  1.127016      0.562746   \n",
       "3  0aa79de0bb5334fe256dbe100d5ec89f3a3943ec319525...  0.666261      0.555864   \n",
       "4  af67dba5884a880afb3baeb279d0a8a52bb5647ddb61ec...  0.659606      0.555864   \n",
       "\n",
       "  province_code district_code province_district_code               id  \n",
       "0            33            29                   3329  3329082007033_1  \n",
       "1            33            29                   3329  3329082007033_2  \n",
       "2            33            29                   3329  3329082007033_3  \n",
       "3            32            02                   3202  3202172008019_1  \n",
       "4            32            02                   3202  3202172008019_2  "
      ]
     },
     "execution_count": 36,
     "metadata": {},
     "output_type": "execute_result"
    }
   ],
   "source": [
    "df.head()"
   ]
  },
  {
   "cell_type": "markdown",
   "metadata": {},
   "source": [
    "## EDA Pemilu"
   ]
  },
  {
   "cell_type": "code",
   "execution_count": 12,
   "metadata": {},
   "outputs": [
    {
     "name": "stdout",
     "output_type": "stream",
     "text": [
      "Page 1: 670516 (81.45%)\n",
      "Page 2: 664486 (80.72%)\n",
      "Page 3: 651910 (79.19%)\n",
      "Available: 1986912\n",
      "Uploaded: 1986912/823236 (80.45%)\n"
     ]
    }
   ],
   "source": [
    "# Data for Table I.\n",
    "\n",
    "def calc_page(col: str, dfc: pd.DataFrame):\n",
    "    count = df_pemilu[col].notna().sum()\n",
    "    percentage = count / df_pemilu.shape[0] * 100\n",
    "\n",
    "    return f\"{count} ({percentage:.2f}%)\"\n",
    "\n",
    "n_available = df_pemilu[[\"chasil_hal_1\", \"chasil_hal_2\", \"chasil_hal_3\"]].notna().sum().sum()\n",
    "n_all = df_pemilu.shape[0]\n",
    "avail_percentage = n_available / (n_all * 3) * 100\n",
    "\n",
    "print(\"Page 1:\", calc_page(\"chasil_hal_1\", df_pemilu))\n",
    "print(\"Page 2:\", calc_page(\"chasil_hal_2\", df_pemilu))\n",
    "print(\"Page 3:\", calc_page(\"chasil_hal_3\", df_pemilu))\n",
    "print(f\"Available: {n_available}\")\n",
    "print(f\"Uploaded: {n_available}/{n_all} ({avail_percentage:.2f}%)\")"
   ]
  },
  {
   "cell_type": "markdown",
   "metadata": {},
   "source": [
    "## Threshold"
   ]
  },
  {
   "cell_type": "code",
   "execution_count": 13,
   "metadata": {},
   "outputs": [],
   "source": [
    "def plot_hist(dfc: pd.DataFrame, col: str, bins: int = 50):\n",
    "    p01, p05, p50, p95, p99 = dfc[col].quantile([0.01, 0.05, 0.5, 0.95, 0.99])\n",
    "    print(f\"p01: {p01:.2f}, p05: {p05:.2f}, p50: {p50:.2f}, p95: {p95:.2f}, p99: {p99:.2f}\")\n",
    "\n",
    "    fig, ax = plt.subplots(figsize=(4, 3))\n",
    "    sns.histplot(dfc[col], bins=bins, ax=ax, kde=True)\n",
    "    ax.vlines([p05, p50, p95], 0, ax.get_ylim()[1], colors='r', linestyles='dashed')\n",
    "    plt.show()"
   ]
  },
  {
   "cell_type": "code",
   "execution_count": 14,
   "metadata": {},
   "outputs": [
    {
     "data": {
      "text/html": [
       "<div>\n",
       "<style scoped>\n",
       "    .dataframe tbody tr th:only-of-type {\n",
       "        vertical-align: middle;\n",
       "    }\n",
       "\n",
       "    .dataframe tbody tr th {\n",
       "        vertical-align: top;\n",
       "    }\n",
       "\n",
       "    .dataframe thead th {\n",
       "        text-align: right;\n",
       "    }\n",
       "</style>\n",
       "<table border=\"1\" class=\"dataframe\">\n",
       "  <thead>\n",
       "    <tr style=\"text-align: right;\">\n",
       "      <th></th>\n",
       "      <th>tps</th>\n",
       "      <th>page</th>\n",
       "      <th>size_bytes</th>\n",
       "      <th>height</th>\n",
       "      <th>width</th>\n",
       "      <th>laplacian_blur</th>\n",
       "      <th>fft_blur</th>\n",
       "      <th>similarity</th>\n",
       "      <th>size_mb</th>\n",
       "      <th>aspect_ratio</th>\n",
       "    </tr>\n",
       "  </thead>\n",
       "  <tbody>\n",
       "    <tr>\n",
       "      <th>count</th>\n",
       "      <td>1.775337e+06</td>\n",
       "      <td>1.775337e+06</td>\n",
       "      <td>1.775337e+06</td>\n",
       "      <td>1.775337e+06</td>\n",
       "      <td>1.775337e+06</td>\n",
       "      <td>1.775337e+06</td>\n",
       "      <td>1.775337e+06</td>\n",
       "      <td>1.775337e+06</td>\n",
       "      <td>1.775337e+06</td>\n",
       "      <td>1.775337e+06</td>\n",
       "    </tr>\n",
       "    <tr>\n",
       "      <th>mean</th>\n",
       "      <td>1.716072e+01</td>\n",
       "      <td>1.999967e+00</td>\n",
       "      <td>8.455490e+05</td>\n",
       "      <td>1.725438e+03</td>\n",
       "      <td>1.003234e+03</td>\n",
       "      <td>5.528434e+02</td>\n",
       "      <td>2.548121e+01</td>\n",
       "      <td>7.583028e-01</td>\n",
       "      <td>8.063783e-01</td>\n",
       "      <td>5.885703e-01</td>\n",
       "    </tr>\n",
       "    <tr>\n",
       "      <th>std</th>\n",
       "      <td>4.834146e+01</td>\n",
       "      <td>8.164972e-01</td>\n",
       "      <td>2.051663e+05</td>\n",
       "      <td>2.033648e+02</td>\n",
       "      <td>8.127373e+01</td>\n",
       "      <td>5.851770e+02</td>\n",
       "      <td>7.231264e+00</td>\n",
       "      <td>1.074617e-01</td>\n",
       "      <td>1.956618e-01</td>\n",
       "      <td>8.529745e-02</td>\n",
       "    </tr>\n",
       "    <tr>\n",
       "      <th>min</th>\n",
       "      <td>1.000000e+00</td>\n",
       "      <td>1.000000e+00</td>\n",
       "      <td>1.613800e+04</td>\n",
       "      <td>1.230000e+02</td>\n",
       "      <td>2.590000e+02</td>\n",
       "      <td>1.996282e+00</td>\n",
       "      <td>-4.271721e+01</td>\n",
       "      <td>0.000000e+00</td>\n",
       "      <td>1.539040e-02</td>\n",
       "      <td>1.147974e-01</td>\n",
       "    </tr>\n",
       "    <tr>\n",
       "      <th>25%</th>\n",
       "      <td>3.000000e+00</td>\n",
       "      <td>1.000000e+00</td>\n",
       "      <td>7.239440e+05</td>\n",
       "      <td>1.579000e+03</td>\n",
       "      <td>1.000000e+03</td>\n",
       "      <td>1.749465e+02</td>\n",
       "      <td>2.009062e+01</td>\n",
       "      <td>6.951220e-01</td>\n",
       "      <td>6.904068e-01</td>\n",
       "      <td>5.624297e-01</td>\n",
       "    </tr>\n",
       "    <tr>\n",
       "      <th>50%</th>\n",
       "      <td>7.000000e+00</td>\n",
       "      <td>2.000000e+00</td>\n",
       "      <td>8.427740e+05</td>\n",
       "      <td>1.777000e+03</td>\n",
       "      <td>1.000000e+03</td>\n",
       "      <td>3.694890e+02</td>\n",
       "      <td>2.612002e+01</td>\n",
       "      <td>7.657143e-01</td>\n",
       "      <td>8.037319e-01</td>\n",
       "      <td>5.627462e-01</td>\n",
       "    </tr>\n",
       "    <tr>\n",
       "      <th>75%</th>\n",
       "      <td>1.600000e+01</td>\n",
       "      <td>3.000000e+00</td>\n",
       "      <td>9.597250e+05</td>\n",
       "      <td>1.778000e+03</td>\n",
       "      <td>1.000000e+03</td>\n",
       "      <td>7.447304e+02</td>\n",
       "      <td>3.078949e+01</td>\n",
       "      <td>8.412698e-01</td>\n",
       "      <td>9.152651e-01</td>\n",
       "      <td>6.337136e-01</td>\n",
       "    </tr>\n",
       "    <tr>\n",
       "      <th>max</th>\n",
       "      <td>9.500000e+02</td>\n",
       "      <td>3.000000e+00</td>\n",
       "      <td>2.246782e+07</td>\n",
       "      <td>1.379200e+04</td>\n",
       "      <td>9.421000e+03</td>\n",
       "      <td>2.515327e+04</td>\n",
       "      <td>1.050378e+02</td>\n",
       "      <td>1.000000e+00</td>\n",
       "      <td>2.142698e+01</td>\n",
       "      <td>8.130081e+00</td>\n",
       "    </tr>\n",
       "  </tbody>\n",
       "</table>\n",
       "</div>"
      ],
      "text/plain": [
       "                tps          page    size_bytes        height         width  \\\n",
       "count  1.775337e+06  1.775337e+06  1.775337e+06  1.775337e+06  1.775337e+06   \n",
       "mean   1.716072e+01  1.999967e+00  8.455490e+05  1.725438e+03  1.003234e+03   \n",
       "std    4.834146e+01  8.164972e-01  2.051663e+05  2.033648e+02  8.127373e+01   \n",
       "min    1.000000e+00  1.000000e+00  1.613800e+04  1.230000e+02  2.590000e+02   \n",
       "25%    3.000000e+00  1.000000e+00  7.239440e+05  1.579000e+03  1.000000e+03   \n",
       "50%    7.000000e+00  2.000000e+00  8.427740e+05  1.777000e+03  1.000000e+03   \n",
       "75%    1.600000e+01  3.000000e+00  9.597250e+05  1.778000e+03  1.000000e+03   \n",
       "max    9.500000e+02  3.000000e+00  2.246782e+07  1.379200e+04  9.421000e+03   \n",
       "\n",
       "       laplacian_blur      fft_blur    similarity       size_mb  aspect_ratio  \n",
       "count    1.775337e+06  1.775337e+06  1.775337e+06  1.775337e+06  1.775337e+06  \n",
       "mean     5.528434e+02  2.548121e+01  7.583028e-01  8.063783e-01  5.885703e-01  \n",
       "std      5.851770e+02  7.231264e+00  1.074617e-01  1.956618e-01  8.529745e-02  \n",
       "min      1.996282e+00 -4.271721e+01  0.000000e+00  1.539040e-02  1.147974e-01  \n",
       "25%      1.749465e+02  2.009062e+01  6.951220e-01  6.904068e-01  5.624297e-01  \n",
       "50%      3.694890e+02  2.612002e+01  7.657143e-01  8.037319e-01  5.627462e-01  \n",
       "75%      7.447304e+02  3.078949e+01  8.412698e-01  9.152651e-01  6.337136e-01  \n",
       "max      2.515327e+04  1.050378e+02  1.000000e+00  2.142698e+01  8.130081e+00  "
      ]
     },
     "execution_count": 14,
     "metadata": {},
     "output_type": "execute_result"
    }
   ],
   "source": [
    "df.describe()"
   ]
  },
  {
   "cell_type": "code",
   "execution_count": 15,
   "metadata": {},
   "outputs": [
    {
     "data": {
      "text/plain": [
       "page\n",
       "1    591809\n",
       "2    591778\n",
       "3    591750\n",
       "Name: count, dtype: int64"
      ]
     },
     "execution_count": 15,
     "metadata": {},
     "output_type": "execute_result"
    }
   ],
   "source": [
    "# Data for Table II.\n",
    "df[\"page\"].value_counts()"
   ]
  },
  {
   "cell_type": "code",
   "execution_count": 16,
   "metadata": {},
   "outputs": [
    {
     "name": "stdout",
     "output_type": "stream",
     "text": [
      "p01: 24.36, p05: 59.09, p50: 369.49, p95: 1615.62, p99: 2554.86\n"
     ]
    },
    {
     "data": {
      "image/png": "[encoded data removed]",
      "text/plain": [
       "<Figure size 400x300 with 1 Axes>"
      ]
     },
     "metadata": {},
     "output_type": "display_data"
    }
   ],
   "source": [
    "plot_hist(df, \"laplacian_blur\")"
   ]
  },
  {
   "cell_type": "code",
   "execution_count": 17,
   "metadata": {},
   "outputs": [
    {
     "name": "stdout",
     "output_type": "stream",
     "text": [
      "p01: 8.93, p05: 13.48, p50: 26.12, p95: 36.30, p99: 40.83\n"
     ]
    },
    {
     "data": {
      "image/png": "[encoded data removed]",
      "text/plain": [
       "<Figure size 400x300 with 1 Axes>"
      ]
     },
     "metadata": {},
     "output_type": "display_data"
    }
   ],
   "source": [
    "plot_hist(df, \"fft_blur\")"
   ]
  },
  {
   "cell_type": "code",
   "execution_count": 18,
   "metadata": {},
   "outputs": [
    {
     "name": "stdout",
     "output_type": "stream",
     "text": [
      "p01: 0.44, p05: 0.57, p50: 0.77, p95: 0.91, p99: 0.94\n"
     ]
    },
    {
     "data": {
      "image/png": "[encoded data removed]",
      "text/plain": [
       "<Figure size 400x300 with 1 Axes>"
      ]
     },
     "metadata": {},
     "output_type": "display_data"
    }
   ],
   "source": [
    "plot_hist(df, \"similarity\")"
   ]
  },
  {
   "cell_type": "code",
   "execution_count": 53,
   "metadata": {},
   "outputs": [
    {
     "name": "stdout",
     "output_type": "stream",
     "text": [
      "p05: 0.53, p50: 0.80, p95: 1.08\n"
     ]
    },
    {
     "data": {
      "image/png": "[encoded data removed]",
      "text/plain": [
       "<Figure size 400x300 with 1 Axes>"
      ]
     },
     "metadata": {},
     "output_type": "display_data"
    }
   ],
   "source": [
    "plot_hist(df, \"size_mb\")"
   ]
  },
  {
   "cell_type": "code",
   "execution_count": 55,
   "metadata": {},
   "outputs": [
    {
     "name": "stdout",
     "output_type": "stream",
     "text": [
      "p05: 1451.00, p50: 1777.00, p95: 2000.00\n"
     ]
    },
    {
     "data": {
      "image/png": "[encoded data removed]",
      "text/plain": [
       "<Figure size 400x300 with 1 Axes>"
      ]
     },
     "metadata": {},
     "output_type": "display_data"
    }
   ],
   "source": [
    "plot_hist(df, \"height\")"
   ]
  },
  {
   "cell_type": "code",
   "execution_count": 54,
   "metadata": {},
   "outputs": [
    {
     "name": "stdout",
     "output_type": "stream",
     "text": [
      "p05: 1000.00, p50: 1000.00, p95: 1000.00\n"
     ]
    },
    {
     "data": {
      "image/png": "[encoded data removed]",
      "text/plain": [
       "<Figure size 400x300 with 1 Axes>"
      ]
     },
     "metadata": {},
     "output_type": "display_data"
    }
   ],
   "source": [
    "plot_hist(df, \"width\")"
   ]
  },
  {
   "cell_type": "code",
   "execution_count": 75,
   "metadata": {},
   "outputs": [
    {
     "name": "stdout",
     "output_type": "stream",
     "text": [
      "p01: 0.50, p05: 0.50, p50: 0.56, p95: 0.69, p99: 0.75\n"
     ]
    },
    {
     "data": {
      "image/png": "[encoded data removed]",
      "text/plain": [
       "<Figure size 400x300 with 1 Axes>"
      ]
     },
     "metadata": {},
     "output_type": "display_data"
    }
   ],
   "source": [
    "plot_hist(df, \"aspect_ratio\")"
   ]
  },
  {
   "cell_type": "markdown",
   "metadata": {},
   "source": [
    "## Document Blur"
   ]
  },
  {
   "cell_type": "markdown",
   "metadata": {},
   "source": [
    "### By Laplace"
   ]
  },
  {
   "cell_type": "code",
   "execution_count": 70,
   "metadata": {},
   "outputs": [
    {
     "name": "stdout",
     "output_type": "stream",
     "text": [
      "Blurry by Laplace: 250314 (14.10%)\n"
     ]
    }
   ],
   "source": [
    "blur_laplace = df[~df[\"laplacian_blur\"].between(100, 2000)][\"id\"]\n",
    "blur_laplace_pct = len(blur_laplace) / df.shape[0] * 100\n",
    "\n",
    "print(f\"Blurry by Laplace: {len(blur_laplace)} ({blur_laplace_pct:.2f}%)\")"
   ]
  },
  {
   "cell_type": "markdown",
   "metadata": {},
   "source": [
    "### By FFT"
   ]
  },
  {
   "cell_type": "code",
   "execution_count": 73,
   "metadata": {},
   "outputs": [
    {
     "name": "stdout",
     "output_type": "stream",
     "text": [
      "Blurry by FFT: 438167 (24.68%)\n"
     ]
    }
   ],
   "source": [
    "blur_fft = df[~df[\"fft_blur\"].between(20, 50)][\"id\"]\n",
    "blur_fft_pct = len(blur_fft) / df.shape[0] * 100\n",
    "\n",
    "print(f\"Blurry by FFT: {len(blur_fft)} ({blur_fft_pct:.2f}%)\")"
   ]
  },
  {
   "cell_type": "code",
   "execution_count": 74,
   "metadata": {},
   "outputs": [
    {
     "name": "stdout",
     "output_type": "stream",
     "text": [
      "Total: 561267 (31.61%)\n"
     ]
    }
   ],
   "source": [
    "n_blur_total = len(set(blur_laplace.tolist() + blur_fft.tolist()))\n",
    "n_blur_total_pct = n_blur_total / df.shape[0] * 100\n",
    "\n",
    "print(f\"Total: {n_blur_total} ({n_blur_total_pct:.2f}%)\")"
   ]
  },
  {
   "cell_type": "markdown",
   "metadata": {},
   "source": [
    "## Document Recognition"
   ]
  },
  {
   "cell_type": "markdown",
   "metadata": {},
   "source": [
    "### By Aspect Ratio"
   ]
  },
  {
   "cell_type": "code",
   "execution_count": 79,
   "metadata": {},
   "outputs": [
    {
     "name": "stdout",
     "output_type": "stream",
     "text": [
      "Aspect Ratio: 27724 (1.56%)\n"
     ]
    }
   ],
   "source": [
    "rec_ar = df[~df[\"aspect_ratio\"].between(0.5, 1.7, inclusive=\"both\")][\"id\"]\n",
    "rec_ar_pct = len(rec_ar) / df.shape[0] * 100\n",
    "\n",
    "print(f\"Aspect Ratio: {len(rec_ar)} ({rec_ar_pct:.2f}%)\")"
   ]
  },
  {
   "cell_type": "markdown",
   "metadata": {},
   "source": [
    "### By Size"
   ]
  },
  {
   "cell_type": "code",
   "execution_count": 80,
   "metadata": {},
   "outputs": [
    {
     "name": "stdout",
     "output_type": "stream",
     "text": [
      "Size: 820 (0.05%)\n"
     ]
    }
   ],
   "source": [
    "rec_size = df[(df[\"width\"] < 1000) & (df[\"height\"] < 1000)][\"id\"]\n",
    "rec_size_pct = len(rec_size) / df.shape[0] * 100\n",
    "\n",
    "print(f\"Size: {len(rec_size)} ({rec_size_pct:.2f}%)\")"
   ]
  },
  {
   "cell_type": "markdown",
   "metadata": {},
   "source": [
    "### By ORB Similarity"
   ]
  },
  {
   "cell_type": "code",
   "execution_count": 81,
   "metadata": {},
   "outputs": [
    {
     "name": "stdout",
     "output_type": "stream",
     "text": [
      "ORB: 37876 (2.13%)\n"
     ]
    }
   ],
   "source": [
    "rec_orb = df[df[\"similarity\"] < 0.5][\"id\"]\n",
    "rec_orb_pct = len(rec_orb) / df.shape[0] * 100\n",
    "\n",
    "print(f\"ORB: {len(rec_orb)} ({rec_orb_pct:.2f}%)\")"
   ]
  },
  {
   "cell_type": "code",
   "execution_count": 82,
   "metadata": {},
   "outputs": [
    {
     "name": "stdout",
     "output_type": "stream",
     "text": [
      "Total: 65313 (3.29%)\n"
     ]
    }
   ],
   "source": [
    "n_rec_total = len(set(rec_ar.tolist() + rec_size.tolist() + rec_orb.tolist()))\n",
    "n_rec_total_pct = n_rec_total / n_available * 100\n",
    "\n",
    "print(f\"Total: {n_rec_total} ({n_rec_total_pct:.2f}%)\")"
   ]
  },
  {
   "cell_type": "markdown",
   "metadata": {},
   "source": [
    "## Document Hash"
   ]
  },
  {
   "cell_type": "code",
   "execution_count": 92,
   "metadata": {},
   "outputs": [
    {
     "name": "stdout",
     "output_type": "stream",
     "text": [
      "Duplicate: 7056 (0.40%)\n"
     ]
    },
    {
     "data": {
      "text/html": [
       "<div>\n",
       "<style scoped>\n",
       "    .dataframe tbody tr th:only-of-type {\n",
       "        vertical-align: middle;\n",
       "    }\n",
       "\n",
       "    .dataframe tbody tr th {\n",
       "        vertical-align: top;\n",
       "    }\n",
       "\n",
       "    .dataframe thead th {\n",
       "        text-align: right;\n",
       "    }\n",
       "</style>\n",
       "<table border=\"1\" class=\"dataframe\">\n",
       "  <thead>\n",
       "    <tr style=\"text-align: right;\">\n",
       "      <th></th>\n",
       "      <th>kode</th>\n",
       "      <th>tps</th>\n",
       "      <th>page</th>\n",
       "      <th>size_bytes</th>\n",
       "      <th>extension</th>\n",
       "      <th>height</th>\n",
       "      <th>width</th>\n",
       "      <th>laplacian_blur</th>\n",
       "      <th>fft_blur</th>\n",
       "      <th>similarity</th>\n",
       "      <th>hash</th>\n",
       "      <th>size_mb</th>\n",
       "      <th>aspect_ratio</th>\n",
       "      <th>province_code</th>\n",
       "      <th>district_code</th>\n",
       "      <th>province_district_code</th>\n",
       "      <th>id</th>\n",
       "    </tr>\n",
       "  </thead>\n",
       "  <tbody>\n",
       "    <tr>\n",
       "      <th>524</th>\n",
       "      <td>1302042002055</td>\n",
       "      <td>55</td>\n",
       "      <td>3</td>\n",
       "      <td>721986</td>\n",
       "      <td>jpg</td>\n",
       "      <td>1408</td>\n",
       "      <td>1000</td>\n",
       "      <td>432.308552</td>\n",
       "      <td>26.252858</td>\n",
       "      <td>0.716981</td>\n",
       "      <td>3ec5d60af5b6a7985241a801745d10d6047468b0989256...</td>\n",
       "      <td>0.688540</td>\n",
       "      <td>0.710227</td>\n",
       "      <td>13</td>\n",
       "      <td>02</td>\n",
       "      <td>1302</td>\n",
       "      <td>1302042002055_3</td>\n",
       "    </tr>\n",
       "    <tr>\n",
       "      <th>575</th>\n",
       "      <td>1302042002050</td>\n",
       "      <td>50</td>\n",
       "      <td>3</td>\n",
       "      <td>1028476</td>\n",
       "      <td>jpg</td>\n",
       "      <td>1556</td>\n",
       "      <td>1000</td>\n",
       "      <td>475.296281</td>\n",
       "      <td>38.646929</td>\n",
       "      <td>0.815029</td>\n",
       "      <td>32b05ac47fc19dae42acc10697bfd3d583700984c2eb77...</td>\n",
       "      <td>0.980831</td>\n",
       "      <td>0.642674</td>\n",
       "      <td>13</td>\n",
       "      <td>02</td>\n",
       "      <td>1302</td>\n",
       "      <td>1302042002050_3</td>\n",
       "    </tr>\n",
       "    <tr>\n",
       "      <th>656</th>\n",
       "      <td>3273051005033</td>\n",
       "      <td>33</td>\n",
       "      <td>3</td>\n",
       "      <td>562613</td>\n",
       "      <td>jpg</td>\n",
       "      <td>1466</td>\n",
       "      <td>1000</td>\n",
       "      <td>27.076437</td>\n",
       "      <td>17.386980</td>\n",
       "      <td>0.853147</td>\n",
       "      <td>746bf6e430a43ce200443b31d9d04e7cbf95e944c8cef1...</td>\n",
       "      <td>0.536550</td>\n",
       "      <td>0.682128</td>\n",
       "      <td>32</td>\n",
       "      <td>73</td>\n",
       "      <td>3273</td>\n",
       "      <td>3273051005033_3</td>\n",
       "    </tr>\n",
       "    <tr>\n",
       "      <th>683</th>\n",
       "      <td>1302042002049</td>\n",
       "      <td>49</td>\n",
       "      <td>3</td>\n",
       "      <td>988659</td>\n",
       "      <td>jpg</td>\n",
       "      <td>1777</td>\n",
       "      <td>1000</td>\n",
       "      <td>369.573750</td>\n",
       "      <td>26.094502</td>\n",
       "      <td>0.803681</td>\n",
       "      <td>53a4f27a3b91dabc7fd4462074dfe6c4eb4f15cfcc264e...</td>\n",
       "      <td>0.942859</td>\n",
       "      <td>0.562746</td>\n",
       "      <td>13</td>\n",
       "      <td>02</td>\n",
       "      <td>1302</td>\n",
       "      <td>1302042002049_3</td>\n",
       "    </tr>\n",
       "    <tr>\n",
       "      <th>788</th>\n",
       "      <td>1509021001003</td>\n",
       "      <td>3</td>\n",
       "      <td>3</td>\n",
       "      <td>976431</td>\n",
       "      <td>jpg</td>\n",
       "      <td>2000</td>\n",
       "      <td>1000</td>\n",
       "      <td>437.539688</td>\n",
       "      <td>29.324650</td>\n",
       "      <td>0.887640</td>\n",
       "      <td>7b0c79c7ba0a8c587750d5b0047138f702df95a85d241c...</td>\n",
       "      <td>0.931197</td>\n",
       "      <td>0.500000</td>\n",
       "      <td>15</td>\n",
       "      <td>09</td>\n",
       "      <td>1509</td>\n",
       "      <td>1509021001003_3</td>\n",
       "    </tr>\n",
       "  </tbody>\n",
       "</table>\n",
       "</div>"
      ],
      "text/plain": [
       "              kode  tps  page  size_bytes extension  height  width  \\\n",
       "524  1302042002055   55     3      721986       jpg    1408   1000   \n",
       "575  1302042002050   50     3     1028476       jpg    1556   1000   \n",
       "656  3273051005033   33     3      562613       jpg    1466   1000   \n",
       "683  1302042002049   49     3      988659       jpg    1777   1000   \n",
       "788  1509021001003    3     3      976431       jpg    2000   1000   \n",
       "\n",
       "     laplacian_blur   fft_blur  similarity  \\\n",
       "524      432.308552  26.252858    0.716981   \n",
       "575      475.296281  38.646929    0.815029   \n",
       "656       27.076437  17.386980    0.853147   \n",
       "683      369.573750  26.094502    0.803681   \n",
       "788      437.539688  29.324650    0.887640   \n",
       "\n",
       "                                                  hash   size_mb  \\\n",
       "524  3ec5d60af5b6a7985241a801745d10d6047468b0989256...  0.688540   \n",
       "575  32b05ac47fc19dae42acc10697bfd3d583700984c2eb77...  0.980831   \n",
       "656  746bf6e430a43ce200443b31d9d04e7cbf95e944c8cef1...  0.536550   \n",
       "683  53a4f27a3b91dabc7fd4462074dfe6c4eb4f15cfcc264e...  0.942859   \n",
       "788  7b0c79c7ba0a8c587750d5b0047138f702df95a85d241c...  0.931197   \n",
       "\n",
       "     aspect_ratio province_code district_code province_district_code  \\\n",
       "524      0.710227            13            02                   1302   \n",
       "575      0.642674            13            02                   1302   \n",
       "656      0.682128            32            73                   3273   \n",
       "683      0.562746            13            02                   1302   \n",
       "788      0.500000            15            09                   1509   \n",
       "\n",
       "                  id  \n",
       "524  1302042002055_3  \n",
       "575  1302042002050_3  \n",
       "656  3273051005033_3  \n",
       "683  1302042002049_3  \n",
       "788  1509021001003_3  "
      ]
     },
     "execution_count": 92,
     "metadata": {},
     "output_type": "execute_result"
    }
   ],
   "source": [
    "df_dupe = df[df.duplicated([\"hash\"])]\n",
    "duplicate_count = df_dupe.shape[0]\n",
    "duplicate_percentage = (duplicate_count / df.shape[0]) * 100\n",
    "\n",
    "print(f\"Duplicate: {duplicate_count} ({duplicate_percentage:.2f}%)\")\n",
    "df_dupe.head(5)"
   ]
  },
  {
   "cell_type": "code",
   "execution_count": 93,
   "metadata": {},
   "outputs": [
    {
     "data": {
      "image/png": "[encoded data removed]",
      "text/plain": [
       "<Figure size 400x300 with 1 Axes>"
      ]
     },
     "metadata": {},
     "output_type": "display_data"
    }
   ],
   "source": [
    "df_dupe_count_by_area = df_dupe.groupby([\"province_district_code\"]).size().sort_values(ascending=False)\n",
    "df_wilayah_small = df_wilayah[df_wilayah[\"kode\"].isin(df_dupe_count_by_area.index)][[\"kode\", \"nama\"]].copy().set_index(\"kode\")\n",
    "df_wilayah_small[\"count\"] = df_dupe_count_by_area\n",
    "\n",
    "ax = df_wilayah_small.sort_values(\"count\", ascending=False).head(5).set_index(\"nama\").plot.barh(figsize=(4, 3))\n",
    "ax.bar_label(ax.containers[0])\n",
    "plt.show()"
   ]
  },
  {
   "cell_type": "code",
   "execution_count": 94,
   "metadata": {},
   "outputs": [
    {
     "name": "stdout",
     "output_type": "stream",
     "text": [
      "5\n"
     ]
    },
    {
     "data": {
      "text/plain": [
       "hash\n",
       "d8e47b5b9c236517a028d7055aadc86e2b27426bbebd29fbc3870bc72986bcc8    3\n",
       "a02fa672b5f8dd5aa718b21b2598966df2fc0a758134d312c4de403888da89f9    2\n",
       "db5d72e0fd5e8d10634b1156f121781190380745051423cea70769c54ab3a567    2\n",
       "8c46a569aa200ed9bf2aa0f4ce75b08f7b528f8378c16f24807f8c69f593c563    2\n",
       "3dacde93c737aec9a26c2b0dd2c0fff9ed254059f5d3fcee905eb2b45e3f69f3    2\n",
       "Name: kode, dtype: int64"
      ]
     },
     "execution_count": 94,
     "metadata": {},
     "output_type": "execute_result"
    }
   ],
   "source": [
    "# count unique kode per hash\n",
    "unique_kode_by_hash = df_dupe.groupby([\"hash\"])[\"kode\"].nunique().sort_values(ascending=False)\n",
    "\n",
    "# sum of hash with more than 1 unique kode\n",
    "# meaning there are hash with multiple kode (identical document submitted to multiple TPS)\n",
    "print((unique_kode_by_hash > 1).sum())\n",
    "unique_kode_by_hash.head()"
   ]
  },
  {
   "cell_type": "code",
   "execution_count": 95,
   "metadata": {},
   "outputs": [
    {
     "data": {
      "text/html": [
       "<div>\n",
       "<style scoped>\n",
       "    .dataframe tbody tr th:only-of-type {\n",
       "        vertical-align: middle;\n",
       "    }\n",
       "\n",
       "    .dataframe tbody tr th {\n",
       "        vertical-align: top;\n",
       "    }\n",
       "\n",
       "    .dataframe thead th {\n",
       "        text-align: right;\n",
       "    }\n",
       "</style>\n",
       "<table border=\"1\" class=\"dataframe\">\n",
       "  <thead>\n",
       "    <tr style=\"text-align: right;\">\n",
       "      <th></th>\n",
       "      <th>kode</th>\n",
       "      <th>tps</th>\n",
       "      <th>page</th>\n",
       "      <th>size_bytes</th>\n",
       "      <th>extension</th>\n",
       "      <th>height</th>\n",
       "      <th>width</th>\n",
       "      <th>laplacian_blur</th>\n",
       "      <th>fft_blur</th>\n",
       "      <th>similarity</th>\n",
       "      <th>hash</th>\n",
       "      <th>size_mb</th>\n",
       "      <th>aspect_ratio</th>\n",
       "      <th>province_code</th>\n",
       "      <th>district_code</th>\n",
       "      <th>province_district_code</th>\n",
       "      <th>id</th>\n",
       "    </tr>\n",
       "  </thead>\n",
       "  <tbody>\n",
       "    <tr>\n",
       "      <th>348650</th>\n",
       "      <td>3576021009017</td>\n",
       "      <td>17</td>\n",
       "      <td>3</td>\n",
       "      <td>1279186</td>\n",
       "      <td>jpg</td>\n",
       "      <td>3788</td>\n",
       "      <td>2441</td>\n",
       "      <td>581.859385</td>\n",
       "      <td>27.341069</td>\n",
       "      <td>0.771186</td>\n",
       "      <td>8c46a569aa200ed9bf2aa0f4ce75b08f7b528f8378c16f...</td>\n",
       "      <td>1.219927</td>\n",
       "      <td>0.644403</td>\n",
       "      <td>35</td>\n",
       "      <td>76</td>\n",
       "      <td>3576</td>\n",
       "      <td>3576021009017_3</td>\n",
       "    </tr>\n",
       "    <tr>\n",
       "      <th>1185507</th>\n",
       "      <td>3576021009014</td>\n",
       "      <td>14</td>\n",
       "      <td>3</td>\n",
       "      <td>1279186</td>\n",
       "      <td>jpg</td>\n",
       "      <td>3788</td>\n",
       "      <td>2441</td>\n",
       "      <td>581.859385</td>\n",
       "      <td>27.341069</td>\n",
       "      <td>0.771186</td>\n",
       "      <td>8c46a569aa200ed9bf2aa0f4ce75b08f7b528f8378c16f...</td>\n",
       "      <td>1.219927</td>\n",
       "      <td>0.644403</td>\n",
       "      <td>35</td>\n",
       "      <td>76</td>\n",
       "      <td>3576</td>\n",
       "      <td>3576021009014_3</td>\n",
       "    </tr>\n",
       "  </tbody>\n",
       "</table>\n",
       "</div>"
      ],
      "text/plain": [
       "                  kode  tps  page  size_bytes extension  height  width  \\\n",
       "348650   3576021009017   17     3     1279186       jpg    3788   2441   \n",
       "1185507  3576021009014   14     3     1279186       jpg    3788   2441   \n",
       "\n",
       "         laplacian_blur   fft_blur  similarity  \\\n",
       "348650       581.859385  27.341069    0.771186   \n",
       "1185507      581.859385  27.341069    0.771186   \n",
       "\n",
       "                                                      hash   size_mb  \\\n",
       "348650   8c46a569aa200ed9bf2aa0f4ce75b08f7b528f8378c16f...  1.219927   \n",
       "1185507  8c46a569aa200ed9bf2aa0f4ce75b08f7b528f8378c16f...  1.219927   \n",
       "\n",
       "         aspect_ratio province_code district_code province_district_code  \\\n",
       "348650       0.644403            35            76                   3576   \n",
       "1185507      0.644403            35            76                   3576   \n",
       "\n",
       "                      id  \n",
       "348650   3576021009017_3  \n",
       "1185507  3576021009014_3  "
      ]
     },
     "execution_count": 95,
     "metadata": {},
     "output_type": "execute_result"
    }
   ],
   "source": [
    "df_dupe[df_dupe[\"hash\"] == \"8c46a569aa200ed9bf2aa0f4ce75b08f7b528f8378c16f24807f8c69f593c563\"]"
   ]
  },
  {
   "cell_type": "code",
   "execution_count": 96,
   "metadata": {},
   "outputs": [
    {
     "data": {
      "text/plain": [
       "array([['3201352003004', 32, '3201', '320135', '3201352003', 4, 53.0,\n",
       "        144.0, 11.0,\n",
       "        'https://sirekap-obj-formc.kpu.go.id/f6e8/pemilu/ppwp/32/01/35/20/03/3201352003004-20240221-204730--171d7b41-317d-4864-b182-c63a0129d9c2.jpg',\n",
       "        'https://sirekap-obj-formc.kpu.go.id/f6e8/pemilu/ppwp/32/01/35/20/03/3201352003004-20240218-132917--11a25dd0-9679-4aa5-8c84-03931e964c98.jpg',\n",
       "        'https://sirekap-obj-formc.kpu.go.id/f6e8/pemilu/ppwp/32/01/35/20/03/3201352003004-20240218-132916--56eb7b9d-9045-46ea-a6c5-e50827ac9bd8.jpg',\n",
       "        178.0, 180.0, 198.0, 101.0, 97.0, 179.0, 92.0, 87.0, 0.0, 0.0,\n",
       "        0.0, 2.0, 180.0, 93.0, 87.0, 1.0, 1.0, 0.0, nan,\n",
       "        '2024-02-21 21:00:04', 'f', 't', '2024-03-14 12:52:52.544',\n",
       "        '2024-02-14 19:51:32.088',\n",
       "        'https://pemilu2024.kpu.go.id/pilpres/hitung-suara/32/3201/320135/3201352003/3201352003004',\n",
       "        'JAWA BARAT', 'BOGOR', 'SUKAJAYA', 'SUKAJAYA',\n",
       "        'https://sirekap-obj-data.kpu.go.id/pemilu/hhcw/ppwp/32/3201/320135/3201352003/3201352003004.json',\n",
       "        40]], dtype=object)"
      ]
     },
     "execution_count": 96,
     "metadata": {},
     "output_type": "execute_result"
    }
   ],
   "source": [
    "df_pemilu[df_pemilu[\"kode\"] == \"3201352003004\"].values"
   ]
  },
  {
   "cell_type": "markdown",
   "metadata": {},
   "source": [
    "## RECAP"
   ]
  },
  {
   "cell_type": "code",
   "execution_count": 100,
   "metadata": {},
   "outputs": [
    {
     "name": "stdout",
     "output_type": "stream",
     "text": [
      "Total Problems: 612282 (34.49%)\n"
     ]
    }
   ],
   "source": [
    "total_problems = len(set(blur_laplace.tolist() + blur_fft.tolist() + rec_ar.tolist() + rec_size.tolist() + rec_orb.tolist() + df_dupe[\"id\"].tolist()))\n",
    "total_problems_pct = total_problems / df.shape[0] * 100\n",
    "\n",
    "print(f\"Total Problems: {total_problems} ({total_problems_pct:.2f}%)\")"
   ]
  },
  {
   "cell_type": "markdown",
   "metadata": {},
   "source": [
    "## Visualization"
   ]
  },
  {
   "cell_type": "code",
   "execution_count": 105,
   "metadata": {},
   "outputs": [
    {
     "data": {
      "image/png": "[encoded data removed]",
      "text/plain": [
       "<Figure size 400x300 with 1 Axes>"
      ]
     },
     "metadata": {},
     "output_type": "display_data"
    }
   ],
   "source": [
    "fig, ax = plt.subplots(figsize=(4, 3))\n",
    "ax.hexbin(df[\"fft_blur\"], df[\"laplacian_blur\"], gridsize=50, cmap='viridis', mincnt=1, bins=\"log\")\n",
    "ax.set_ylabel(\"Laplacian Blur\")\n",
    "ax.set_xlabel(\"FFT Blur\")\n",
    "plt.show()"
   ]
  },
  {
   "cell_type": "code",
   "execution_count": null,
   "metadata": {},
   "outputs": [],
   "source": []
  }
 ],
 "metadata": {
  "kernelspec": {
   "display_name": "pemilu_blur",
   "language": "python",
   "name": "python3"
  },
  "language_info": {
   "codemirror_mode": {
    "name": "ipython",
    "version": 3
   },
   "file_extension": ".py",
   "mimetype": "text/x-python",
   "name": "python",
   "nbconvert_exporter": "python",
   "pygments_lexer": "ipython3",
   "version": "3.12.2"
  }
 },
 "nbformat": 4,
 "nbformat_minor": 2
}
