{
 "cells": [
  {
   "cell_type": "code",
   "execution_count": 7,
   "metadata": {},
   "outputs": [],
   "source": [
    "from hashlib import sha3_256 as sha256"
   ]
  },
  {
   "cell_type": "code",
   "execution_count": 8,
   "metadata": {},
   "outputs": [],
   "source": [
    "# load image\n",
    "with open(\"../dataset/benchmark/1101102001002_002_p1.jpg\", \"rb\") as f:\n",
    "    p1 = f.read()\n",
    "\n",
    "with open(\"../dataset/samples/1101062028003_003_p1.jpg\", \"rb\") as f:\n",
    "    p2 = f.read()"
   ]
  },
  {
   "cell_type": "code",
   "execution_count": 9,
   "metadata": {},
   "outputs": [],
   "source": [
    "# hash image\n",
    "p1_hash = sha256(p1).hexdigest()\n",
    "p2_hash = sha256(p2).hexdigest()"
   ]
  },
  {
   "cell_type": "code",
   "execution_count": 10,
   "metadata": {},
   "outputs": [
    {
     "name": "stdout",
     "output_type": "stream",
     "text": [
      "c757c967cd1ddd0668878238eef3cdd5e4bce3bf2156d3304bb4774e4515308d\n",
      "e869d62ba423143686caf54ec4dce779c31865b367aecb826d150af083b5596e\n",
      "False\n"
     ]
    }
   ],
   "source": [
    "print(p1_hash)\n",
    "print(p2_hash)\n",
    "print(p1_hash == p2_hash)"
   ]
  },
  {
   "cell_type": "code",
   "execution_count": null,
   "metadata": {},
   "outputs": [],
   "source": []
  }
 ],
 "metadata": {
  "kernelspec": {
   "display_name": "pemilu_blur",
   "language": "python",
   "name": "python3"
  },
  "language_info": {
   "codemirror_mode": {
    "name": "ipython",
    "version": 3
   },
   "file_extension": ".py",
   "mimetype": "text/x-python",
   "name": "python",
   "nbconvert_exporter": "python",
   "pygments_lexer": "ipython3",
   "version": "3.12.2"
  }
 },
 "nbformat": 4,
 "nbformat_minor": 2
}
