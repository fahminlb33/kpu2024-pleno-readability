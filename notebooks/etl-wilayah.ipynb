{
 "cells": [
  {
   "cell_type": "code",
   "execution_count": 1,
   "metadata": {},
   "outputs": [],
   "source": [
    "import numpy as np\n",
    "import pandas as pd\n",
    "import seaborn as sns\n",
    "import matplotlib.pyplot as plt"
   ]
  },
  {
   "cell_type": "markdown",
   "metadata": {},
   "source": [
    "# Extract"
   ]
  },
  {
   "cell_type": "code",
   "execution_count": 2,
   "metadata": {},
   "outputs": [
    {
     "data": {
      "text/html": [
       "<div>\n",
       "<style scoped>\n",
       "    .dataframe tbody tr th:only-of-type {\n",
       "        vertical-align: middle;\n",
       "    }\n",
       "\n",
       "    .dataframe tbody tr th {\n",
       "        vertical-align: top;\n",
       "    }\n",
       "\n",
       "    .dataframe thead th {\n",
       "        text-align: right;\n",
       "    }\n",
       "</style>\n",
       "<table border=\"1\" class=\"dataframe\">\n",
       "  <thead>\n",
       "    <tr style=\"text-align: right;\">\n",
       "      <th></th>\n",
       "      <th>nama</th>\n",
       "      <th>id</th>\n",
       "      <th>kode</th>\n",
       "      <th>tingkat</th>\n",
       "      <th>url</th>\n",
       "    </tr>\n",
       "  </thead>\n",
       "  <tbody>\n",
       "    <tr>\n",
       "      <th>0</th>\n",
       "      <td>ACEH</td>\n",
       "      <td>100054</td>\n",
       "      <td>11</td>\n",
       "      <td>1</td>\n",
       "      <td>https://sirekap-obj-data.kpu.go.id/wilayah/pem...</td>\n",
       "    </tr>\n",
       "    <tr>\n",
       "      <th>1</th>\n",
       "      <td>BALI</td>\n",
       "      <td>191103</td>\n",
       "      <td>51</td>\n",
       "      <td>1</td>\n",
       "      <td>https://sirekap-obj-data.kpu.go.id/wilayah/pem...</td>\n",
       "    </tr>\n",
       "    <tr>\n",
       "      <th>2</th>\n",
       "      <td>BANTEN</td>\n",
       "      <td>191100</td>\n",
       "      <td>36</td>\n",
       "      <td>1</td>\n",
       "      <td>https://sirekap-obj-data.kpu.go.id/wilayah/pem...</td>\n",
       "    </tr>\n",
       "    <tr>\n",
       "      <th>3</th>\n",
       "      <td>BENGKULU</td>\n",
       "      <td>191092</td>\n",
       "      <td>17</td>\n",
       "      <td>1</td>\n",
       "      <td>https://sirekap-obj-data.kpu.go.id/wilayah/pem...</td>\n",
       "    </tr>\n",
       "    <tr>\n",
       "      <th>4</th>\n",
       "      <td>DAERAH ISTIMEWA YOGYAKARTA</td>\n",
       "      <td>191098</td>\n",
       "      <td>34</td>\n",
       "      <td>1</td>\n",
       "      <td>https://sirekap-obj-data.kpu.go.id/wilayah/pem...</td>\n",
       "    </tr>\n",
       "  </tbody>\n",
       "</table>\n",
       "</div>"
      ],
      "text/plain": [
       "                         nama      id kode  tingkat  \\\n",
       "0                        ACEH  100054   11        1   \n",
       "1                        BALI  191103   51        1   \n",
       "2                      BANTEN  191100   36        1   \n",
       "3                    BENGKULU  191092   17        1   \n",
       "4  DAERAH ISTIMEWA YOGYAKARTA  191098   34        1   \n",
       "\n",
       "                                                 url  \n",
       "0  https://sirekap-obj-data.kpu.go.id/wilayah/pem...  \n",
       "1  https://sirekap-obj-data.kpu.go.id/wilayah/pem...  \n",
       "2  https://sirekap-obj-data.kpu.go.id/wilayah/pem...  \n",
       "3  https://sirekap-obj-data.kpu.go.id/wilayah/pem...  \n",
       "4  https://sirekap-obj-data.kpu.go.id/wilayah/pem...  "
      ]
     },
     "execution_count": 2,
     "metadata": {},
     "output_type": "execute_result"
    }
   ],
   "source": [
    "df = pd.read_json(\"../data/scraped/wilayah.jsonl\", lines=True)\n",
    "df.head()"
   ]
  },
  {
   "cell_type": "code",
   "execution_count": 3,
   "metadata": {},
   "outputs": [
    {
     "name": "stdout",
     "output_type": "stream",
     "text": [
      "<class 'pandas.core.frame.DataFrame'>\n",
      "RangeIndex: 915326 entries, 0 to 915325\n",
      "Data columns (total 5 columns):\n",
      " #   Column   Non-Null Count   Dtype \n",
      "---  ------   --------------   ----- \n",
      " 0   nama     915326 non-null  object\n",
      " 1   id       915326 non-null  int64 \n",
      " 2   kode     915326 non-null  object\n",
      " 3   tingkat  915326 non-null  int64 \n",
      " 4   url      915326 non-null  object\n",
      "dtypes: int64(2), object(3)\n",
      "memory usage: 34.9+ MB\n"
     ]
    }
   ],
   "source": [
    "df.info()"
   ]
  },
  {
   "cell_type": "markdown",
   "metadata": {},
   "source": [
    "# Transform"
   ]
  },
  {
   "cell_type": "code",
   "execution_count": 4,
   "metadata": {},
   "outputs": [
    {
     "data": {
      "text/html": [
       "<div>\n",
       "<style scoped>\n",
       "    .dataframe tbody tr th:only-of-type {\n",
       "        vertical-align: middle;\n",
       "    }\n",
       "\n",
       "    .dataframe tbody tr th {\n",
       "        vertical-align: top;\n",
       "    }\n",
       "\n",
       "    .dataframe thead th {\n",
       "        text-align: right;\n",
       "    }\n",
       "</style>\n",
       "<table border=\"1\" class=\"dataframe\">\n",
       "  <thead>\n",
       "    <tr style=\"text-align: right;\">\n",
       "      <th></th>\n",
       "      <th>nama</th>\n",
       "      <th>kode</th>\n",
       "      <th>tingkat</th>\n",
       "      <th>url</th>\n",
       "      <th>parent_kode</th>\n",
       "    </tr>\n",
       "  </thead>\n",
       "  <tbody>\n",
       "    <tr>\n",
       "      <th>0</th>\n",
       "      <td>ACEH</td>\n",
       "      <td>11</td>\n",
       "      <td>1</td>\n",
       "      <td>https://sirekap-obj-data.kpu.go.id/wilayah/pem...</td>\n",
       "      <td>0</td>\n",
       "    </tr>\n",
       "    <tr>\n",
       "      <th>1</th>\n",
       "      <td>BALI</td>\n",
       "      <td>51</td>\n",
       "      <td>1</td>\n",
       "      <td>https://sirekap-obj-data.kpu.go.id/wilayah/pem...</td>\n",
       "      <td>0</td>\n",
       "    </tr>\n",
       "    <tr>\n",
       "      <th>2</th>\n",
       "      <td>BANTEN</td>\n",
       "      <td>36</td>\n",
       "      <td>1</td>\n",
       "      <td>https://sirekap-obj-data.kpu.go.id/wilayah/pem...</td>\n",
       "      <td>0</td>\n",
       "    </tr>\n",
       "    <tr>\n",
       "      <th>3</th>\n",
       "      <td>BENGKULU</td>\n",
       "      <td>17</td>\n",
       "      <td>1</td>\n",
       "      <td>https://sirekap-obj-data.kpu.go.id/wilayah/pem...</td>\n",
       "      <td>0</td>\n",
       "    </tr>\n",
       "    <tr>\n",
       "      <th>4</th>\n",
       "      <td>DAERAH ISTIMEWA YOGYAKARTA</td>\n",
       "      <td>34</td>\n",
       "      <td>1</td>\n",
       "      <td>https://sirekap-obj-data.kpu.go.id/wilayah/pem...</td>\n",
       "      <td>0</td>\n",
       "    </tr>\n",
       "  </tbody>\n",
       "</table>\n",
       "</div>"
      ],
      "text/plain": [
       "                         nama kode  tingkat  \\\n",
       "0                        ACEH   11        1   \n",
       "1                        BALI   51        1   \n",
       "2                      BANTEN   36        1   \n",
       "3                    BENGKULU   17        1   \n",
       "4  DAERAH ISTIMEWA YOGYAKARTA   34        1   \n",
       "\n",
       "                                                 url parent_kode  \n",
       "0  https://sirekap-obj-data.kpu.go.id/wilayah/pem...           0  \n",
       "1  https://sirekap-obj-data.kpu.go.id/wilayah/pem...           0  \n",
       "2  https://sirekap-obj-data.kpu.go.id/wilayah/pem...           0  \n",
       "3  https://sirekap-obj-data.kpu.go.id/wilayah/pem...           0  \n",
       "4  https://sirekap-obj-data.kpu.go.id/wilayah/pem...           0  "
      ]
     },
     "execution_count": 4,
     "metadata": {},
     "output_type": "execute_result"
    }
   ],
   "source": [
    "df_final = (\n",
    "    df\n",
    "    .copy()\n",
    "    .drop(columns=[\"id\"])\n",
    "    .assign(parent_kode=df[\"url\"].str.extract(r\"(\\d+)\\.json\"))\n",
    ")\n",
    "\n",
    "df_final.head()"
   ]
  },
  {
   "cell_type": "markdown",
   "metadata": {},
   "source": [
    "# Load"
   ]
  },
  {
   "cell_type": "code",
   "execution_count": 5,
   "metadata": {},
   "outputs": [],
   "source": [
    "df_final.to_parquet(\"../data/clean/wilayah.parquet\")"
   ]
  },
  {
   "cell_type": "code",
   "execution_count": null,
   "metadata": {},
   "outputs": [],
   "source": []
  }
 ],
 "metadata": {
  "kernelspec": {
   "display_name": ".venv",
   "language": "python",
   "name": "python3"
  },
  "language_info": {
   "codemirror_mode": {
    "name": "ipython",
    "version": 3
   },
   "file_extension": ".py",
   "mimetype": "text/x-python",
   "name": "python",
   "nbconvert_exporter": "python",
   "pygments_lexer": "ipython3",
   "version": "3.11.9"
  }
 },
 "nbformat": 4,
 "nbformat_minor": 2
}
